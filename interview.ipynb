{
 "cells": [
  {
   "cell_type": "code",
   "id": "initial_id",
   "metadata": {
    "collapsed": true
   },
   "source": "import pandas as pd",
   "outputs": [],
   "execution_count": null
  },
  {
   "metadata": {},
   "cell_type": "code",
   "source": "pd.read_csv('FINNIFTY02JAN2419500CE.NFO.csv') # the file is in the format <INSTRUMENT><DATE><STRIKEPRICE><CE/PE>.NFO.CSV",
   "id": "95f9a7e0ac1fef72",
   "outputs": [],
   "execution_count": null
  },
  {
   "metadata": {},
   "cell_type": "code",
   "source": [
    "# We have option contracts for FINNIFTY, which is an NSE index and has it's own weekly F&O contract. We want to do some research to see if a strategy would work for this asset. \n",
    "# task 1:\n",
    "# for the given files in this folder, your task is to store the CE and PE file locations by strike price between the ranges of strike price 21000, 22500 for the date 02JAN24 for the asset FINNIFTY. \n",
    "\n",
    "    \n",
    "    "
   ],
   "id": "83be240248433ff0",
   "outputs": [],
   "execution_count": null
  },
  {
   "metadata": {},
   "cell_type": "code",
   "source": [
    "# task 2:\n",
    "# from the stored variable, retrieve the CE and PE file for 22500 in O(1) time. and store them in a variable"
   ],
   "id": "f0e094f987632856",
   "outputs": [],
   "execution_count": null
  },
  {
   "metadata": {},
   "cell_type": "markdown",
   "source": "",
   "id": "ba64deba33c815c6"
  },
  {
   "metadata": {},
   "cell_type": "code",
   "source": [
    "# task 3:\n",
    "# use the variable to read the CE and PE files using pandas as shown in the first cell. Read the price (ltp) at 9:16:00 a.m. Once read, calculate what the price + 50% should be. If at any point in the dataframe, the price reaches/crosses (goes above) that value, store the associated time with that value in a variable and store the price point in  ce_exit_price. If not, store the last value of the price as ce_exit_price.  return ce_start_price, ce_exit_price, ce_exit_time, pe_start_price, pe_exit_price, pe_exit_time"
   ],
   "id": "42d2ee293889b54",
   "outputs": [],
   "execution_count": null
  },
  {
   "metadata": {},
   "cell_type": "code",
   "source": "",
   "id": "a649d3e8d3727bbc",
   "outputs": [],
   "execution_count": null
  },
  {
   "metadata": {},
   "cell_type": "code",
   "source": "",
   "id": "fe1544cc12927be2",
   "outputs": [],
   "execution_count": null
  },
  {
   "metadata": {},
   "cell_type": "code",
   "source": "",
   "id": "ebdaea30580e2486",
   "outputs": [],
   "execution_count": null
  },
  {
   "metadata": {},
   "cell_type": "code",
   "source": "",
   "id": "e64d28d4883ccac1",
   "outputs": [],
   "execution_count": null
  },
  {
   "metadata": {},
   "cell_type": "code",
   "source": "",
   "id": "d2a839b76afa5d45",
   "outputs": [],
   "execution_count": null
  }
 ],
 "metadata": {
  "kernelspec": {
   "display_name": "Python 3",
   "language": "python",
   "name": "python3"
  },
  "language_info": {
   "codemirror_mode": {
    "name": "ipython",
    "version": 2
   },
   "file_extension": ".py",
   "mimetype": "text/x-python",
   "name": "python",
   "nbconvert_exporter": "python",
   "pygments_lexer": "ipython2",
   "version": "2.7.6"
  }
 },
 "nbformat": 4,
 "nbformat_minor": 5
}
